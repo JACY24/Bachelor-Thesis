{
 "cells": [
  {
   "cell_type": "markdown",
   "metadata": {},
   "source": [
    "# Monitor Concept\n",
    "\n",
    "What would a monitor look like?\n",
    "\n",
    "A monitor $\\mathcal{M}$ would be a function\n",
    "$f_{\\mathcal{M}}: \\Sigma^{*}_{obs} \\rightarrow \\mathbb{B}$\n",
    "\n",
    "Where $\\Sigma^{*}_{obs}$ is the language of system-level ipunts and actions\n",
    "\n",
    "---\n",
    "\n",
    "### Parked Car Scenario\n",
    "Assume the following:\n",
    " - If a car breaks, its velocity is immediately 0, i.e. it stands still immediately.\n",
    " - A car does not turn, it only moves in a straight line.\n",
    " - We can access the position and rotation of both the driving and parked car and the speed of the driving car as drivCarPos, parkedCarPos, drivCarHeading, parkedCarHeading drivCarSpeed respectively.\n",
    " - We know the dimensions of the car\n",
    " - Both cars \n",
    "\n",
    "We want the monitor to raise an alarm, i.e. return False, when the driving car is going to hit the parked car.\n",
    "Under these assumptions, we want the monitor to look as follows:\n",
    "\n",
    "if the distance between the two cars in meters is smaller than 2 times the speed of the driving car, and the driving car is headed in the direction of the parked car, return False.\n",
    "\n",
    "\n",
    "\n",
    "\n"
   ]
  },
  {
   "cell_type": "code",
   "execution_count": null,
   "metadata": {
    "vscode": {
     "languageId": "plaintext"
    }
   },
   "outputs": [],
   "source": []
  },
  {
   "cell_type": "code",
   "execution_count": null,
   "metadata": {
    "vscode": {
     "languageId": "plaintext"
    }
   },
   "outputs": [],
   "source": []
  }
 ],
 "metadata": {
  "language_info": {
   "name": "python"
  }
 },
 "nbformat": 4,
 "nbformat_minor": 2
}
